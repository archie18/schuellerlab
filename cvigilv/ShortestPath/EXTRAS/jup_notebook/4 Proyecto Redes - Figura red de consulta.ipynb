{
 "cells": [
  {
   "cell_type": "code",
   "execution_count": 1,
   "metadata": {},
   "outputs": [],
   "source": [
    "from matplotlib import pyplot as plt\n",
    "%matplotlib inline\n",
    "\n",
    "plt.rcParams['figure.figsize'] = [20, 10]"
   ]
  },
  {
   "cell_type": "code",
   "execution_count": 2,
   "metadata": {},
   "outputs": [],
   "source": [
    "# Input files\n",
    "Master_file = '/Users/cvigilv/Dropbox/2018/Data/CC&D mk. 2/chembl23_GS3_v2.mphase_gt_0.txt.co.graphml'"
   ]
  },
  {
   "cell_type": "code",
   "execution_count": 3,
   "metadata": {},
   "outputs": [],
   "source": [
    "# Configurations\n",
    "TopX_percentage = 5"
   ]
  },
  {
   "cell_type": "code",
   "execution_count": 4,
   "metadata": {},
   "outputs": [
    {
     "name": "stdout",
     "output_type": "stream",
     "text": [
      "Summary of graph object:\n",
      "\n",
      "Name: Complete graph\n",
      "Type: Graph\n",
      "Number of nodes: 2129\n",
      "Number of edges: 1169793\n",
      "Average degree: 1098.9131\n",
      "Edge attributes: Similarity, Distance, Z_Similarity, Z_Distance, Type\n",
      "Node attributes: Type, Fold\n"
     ]
    }
   ],
   "source": [
    "import networkx as nx\n",
    "\n",
    "# Load graph file into graph object\n",
    "Master_Graph = nx.read_graphml(Master_file)\n",
    "\n",
    "print('Summary of graph object:\\n')\n",
    "print(nx.info(Master_Graph))\n",
    "print('Edge attributes:', ', '.join(list((list(Master_Graph.edges(data=True))[0][2]).keys())))\n",
    "print('Node attributes:', ', '.join(list((list(Master_Graph.nodes(data=True))[0][1]).keys())))"
   ]
  },
  {
   "cell_type": "code",
   "execution_count": 5,
   "metadata": {},
   "outputs": [],
   "source": [
    "import seaborn as sns\n",
    "import pandas as pd\n",
    "import numpy as np"
   ]
  },
  {
   "cell_type": "code",
   "execution_count": 6,
   "metadata": {
    "scrolled": false
   },
   "outputs": [
    {
     "name": "stdout",
     "output_type": "stream",
     "text": [
      "61\n",
      "Summary of filtered graph object:\n",
      "\n",
      "Name: Complete graph\n",
      "Type: Graph\n",
      "Number of nodes: 1232\n",
      "Number of edges: 21959\n",
      "Average degree:  35.6477\n",
      "Edge attributes: Similarity, Distance, Z_Similarity, Z_Distance, Type\n",
      "Node attributes: Type, Fold\n"
     ]
    }
   ],
   "source": [
    "# Filter graph edges based in previously declared cutoffs\n",
    "\n",
    "TopX = int(len([n for n, data in Master_Graph.nodes(data = True) if data['Type'] == 'Ligand']) * TopX_percentage/100)\n",
    "print(TopX)\n",
    "Ignored_edges = []\n",
    "Ignored_nodes = []\n",
    "for n, d in Master_Graph.nodes(data = True):\n",
    "    if d['Type'] != 'Ligand':\n",
    "        Ignored_nodes += [n]\n",
    "    else:\n",
    "        Ignored_edges += [N for N in \n",
    "                          sorted(Master_Graph.edges(n, data = True), \n",
    "                                 key = lambda E: E[2]['Similarity'], \n",
    "                                 reverse = True) \n",
    "                          if N[2]['Type'] == 'LL'][TopX:]\n",
    "    \n",
    "Master_Graph.remove_edges_from(Ignored_edges)\n",
    "Master_Graph.remove_nodes_from(Ignored_nodes)\n",
    "\n",
    "print('Summary of filtered graph object:\\n')\n",
    "print(nx.info(Master_Graph))\n",
    "print('Edge attributes:', ', '.join(list((list(Master_Graph.edges(data=True))[0][2]).keys())))\n",
    "print('Node attributes:', ', '.join(list((list(Master_Graph.nodes(data=True))[0][1]).keys())))"
   ]
  },
  {
   "cell_type": "code",
   "execution_count": 7,
   "metadata": {},
   "outputs": [],
   "source": [
    "nx.write_graphml(Master_Graph, Master_file.replace('.graphml', '.Top{}percent.graphml'.format(TopX_percentage)))"
   ]
  },
  {
   "cell_type": "code",
   "execution_count": null,
   "metadata": {},
   "outputs": [],
   "source": []
  }
 ],
 "metadata": {
  "kernelspec": {
   "display_name": "Python 3",
   "language": "python",
   "name": "python3"
  },
  "language_info": {
   "codemirror_mode": {
    "name": "ipython",
    "version": 3
   },
   "file_extension": ".py",
   "mimetype": "text/x-python",
   "name": "python",
   "nbconvert_exporter": "python",
   "pygments_lexer": "ipython3",
   "version": "3.7.3"
  }
 },
 "nbformat": 4,
 "nbformat_minor": 2
}
