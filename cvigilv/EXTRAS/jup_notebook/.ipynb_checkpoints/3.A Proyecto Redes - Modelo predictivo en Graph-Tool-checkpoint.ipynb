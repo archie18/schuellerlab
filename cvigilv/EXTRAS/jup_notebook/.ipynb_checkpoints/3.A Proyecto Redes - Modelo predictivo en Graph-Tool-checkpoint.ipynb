{
 "cells": [
  {
   "cell_type": "markdown",
   "metadata": {},
   "source": [
    "# Proyecto Redes - Modelo predictivo\n",
    "## Idea\n",
    "A partir de la red de consulta generada en el paso anterior, la idea es generar 10 subsets de datos. A partir de uno de estos subsets se calcularan los caminos más cortos desde un ligando a un blanco empleando el algoritmo de Dijsktra con un _cutoff_ para el largo del camino de 4.\n",
    "### Input\n",
    "Archivo de red binario  \n",
    "Archivo de configuraciones (No considerado en este prototipado)  \n",
    "### Output\n",
    "Archivo de salida predicciones"
   ]
  },
  {
   "cell_type": "code",
   "execution_count": 1,
   "metadata": {},
   "outputs": [],
   "source": [
    "from matplotlib import pyplot as plt\n",
    "plt.rcParams['figure.figsize'] = [10, 8]\n",
    "import seaborn as sns\n",
    "import pandas as pd\n",
    "import numpy as np"
   ]
  },
  {
   "cell_type": "code",
   "execution_count": 2,
   "metadata": {},
   "outputs": [],
   "source": [
    "# Input files\n",
    "Master_file = '/Users/cvigilv/Dropbox/2018/Data/CC&D mk. 2/chembl23_GS3_v2.mphase_gt_0.txt.co.gt'"
   ]
  },
  {
   "cell_type": "code",
   "execution_count": 3,
   "metadata": {},
   "outputs": [],
   "source": [
    "# Configurations\n",
    "Ligand_similarity_cutoff = 0.40\n",
    "Target_similarity_cutoff = 0.20"
   ]
  },
  {
   "cell_type": "code",
   "execution_count": 4,
   "metadata": {},
   "outputs": [
    {
     "name": "stdout",
     "output_type": "stream",
     "text": [
      "Summary of graph object:\n",
      "\n",
      "Ammount of vertices: 2129\n",
      "Ammount of edges: 1169793\n",
      "Edge properties: Similarity, Distance, Z_Similarity, Z_Distance, Type\n",
      "Vertex properties: Type, Fold, ID\n",
      "\n",
      "name           (graph)   (type: string, val: Complete graph)\n",
      "Fold           (vertex)  (type: double)\n",
      "ID             (vertex)  (type: string)\n",
      "Type           (vertex)  (type: string)\n",
      "Distance       (edge)    (type: double)\n",
      "Similarity     (edge)    (type: double)\n",
      "Type           (edge)    (type: string)\n",
      "Z_Distance     (edge)    (type: double)\n",
      "Z_Similarity   (edge)    (type: double)\n",
      "None\n"
     ]
    }
   ],
   "source": [
    "## SECTION : Graph loading ##\n",
    "import graph_tool.all as gt\n",
    "\n",
    "# Load binary graph file into memory\n",
    "Master_Graph = gt.load_graph(Master_file)\n",
    "\n",
    "print('Summary of graph object:\\n')\n",
    "print('Ammount of vertices:',Master_Graph.num_vertices())\n",
    "print('Ammount of edges:',Master_Graph.num_edges())\n",
    "print('Edge properties:', ', '.join(list(Master_Graph.ep.keys())))\n",
    "print('Vertex properties:', ', '.join(list(Master_Graph.vp.keys())))\n",
    "\n",
    "print()\n",
    "print(Master_Graph.list_properties())"
   ]
  },
  {
   "cell_type": "code",
   "execution_count": 5,
   "metadata": {},
   "outputs": [
    {
     "name": "stdout",
     "output_type": "stream",
     "text": [
      "Summary of filtered graph object:\n",
      "\n",
      "Ammount of vertices: 2129\n",
      "Ammount of edges: 27801\n",
      "Edge properties: Similarity, Distance, Z_Similarity, Z_Distance, Type, Ignored\n",
      "Vertex properties: Type, Fold, ID\n"
     ]
    }
   ],
   "source": [
    "## SECTION : Graph filtering ##\n",
    "# Filter graph edges based in previously declared cutoffs\n",
    "\n",
    "Ignored = Master_Graph.new_edge_property(\"bool\")\n",
    "Master_Graph.ep.Ignored = Ignored\n",
    "\n",
    "for e in Master_Graph.edges():\n",
    "    \n",
    "    if str(Master_Graph.ep.Type[e]) == 'LL':       \n",
    "        if Master_Graph.ep.Similarity[e] < Ligand_similarity_cutoff:\n",
    "            Master_Graph.ep.Ignored[e] = True\n",
    "        else:\n",
    "            Master_Graph.ep.Ignored[e] = False\n",
    "            \n",
    "    elif str(Master_Graph.ep.Type[e]) == 'TT':\n",
    "        if Master_Graph.ep.Similarity[e] < Target_similarity_cutoff:\n",
    "            Master_Graph.ep.Ignored[e] = True\n",
    "        else:\n",
    "            Master_Graph.ep.Ignored[e] = False\n",
    "            \n",
    "    else:\n",
    "        Master_Graph.ep.Ignored[e] = False\n",
    "\n",
    "Master_Graph.set_edge_filter(Ignored, inverted = True)\n",
    "Master_Graph.purge_edges()\n",
    "\n",
    "print('Summary of filtered graph object:\\n')\n",
    "print('Ammount of vertices:',Master_Graph.num_vertices())\n",
    "print('Ammount of edges:',Master_Graph.num_edges())\n",
    "print('Edge properties:', ', '.join(list(Master_Graph.ep.keys())))\n",
    "print('Vertex properties:', ', '.join(list(Master_Graph.vp.keys())))"
   ]
  },
  {
   "cell_type": "code",
   "execution_count": null,
   "metadata": {},
   "outputs": [
    {
     "name": "stdout",
     "output_type": "stream",
     "text": [
      "---------- Fold 0 ----------\n",
      "Amount of ligands in test set: 124\n",
      "Amount of inputs in test set: 111228\n",
      "\n",
      "Generating predictions of current fold: \n",
      "47.368468/100%\r"
     ]
    }
   ],
   "source": [
    "## SECTION : Predictive model ##\n",
    "import datetime\n",
    "import random\n",
    "from collections import defaultdict\n",
    "\n",
    "# Create edge property for annotattion masking at the moment of generating predictions\n",
    "Filtered = Master_Graph.new_edge_property(\"bool\")\n",
    "Master_Graph.ep.Filtered = Filtered\n",
    "\n",
    "# Generate pandas dataframe with ligand information for easier processing\n",
    "df_nodes = pd.DataFrame({'ChEMBL_ID' : list(Master_Graph.vp.ID),\n",
    "                         'Type'      : list(Master_Graph.vp.Type),\n",
    "                         'Fold'      : list(Master_Graph.vp.Fold)})\n",
    "\n",
    "# Iterate over each fold\n",
    "init_time   = datetime.datetime.now()\n",
    "output_data = defaultdict(list)\n",
    "for i in range(10):\n",
    "    print('---------- Fold {} ----------'.format(i))\n",
    "    # Reset edge masking\n",
    "    Master_Graph.set_edge_filter(None)\n",
    "    Master_Graph.ep.Filtered.a = False\n",
    "    \n",
    "    # Create list of test ligands, targets and ligand-target pairs\n",
    "    Ligands_Test_Set = [gt.find_vertex(Master_Graph, Master_Graph.vp.ID, L)[0]\n",
    "                        for L in df_nodes[(df_nodes['Type'] == 'Ligand') & (df_nodes['Fold'] == i)]['ChEMBL_ID'].values]\n",
    "    Targets_Test_Set = [gt.find_vertex(Master_Graph, Master_Graph.vp.ID, T)[0]\n",
    "                        for T in df_nodes[df_nodes['Type'] == 'Target']['ChEMBL_ID'].values]\n",
    "    Inputs_Test_Set  = [(N1, N2) \n",
    "                         for N1 in Ligands_Test_Set for N2 in Targets_Test_Set]\n",
    "    print('Amount of ligands in test set: {}'.format(len(Ligands_Test_Set)))\n",
    "    print('Amount of inputs in test set: {}'.format(len(Inputs_Test_Set)))\n",
    "\n",
    "    # Store in memory all ligand-target annotattions of current fold\n",
    "    DTIs_ignored = 0\n",
    "    Fold_DTIs = []\n",
    "    \n",
    "    for L in Ligands_Test_Set:\n",
    "        L_Annotations = [Master_Graph.edge(L,T) for T in L.all_neighbors()\n",
    "                         if Master_Graph.ep.Type[Master_Graph.edge(L,T)] == 'LT']\n",
    "        Fold_DTIs    += L_Annotations\n",
    "        DTIs_ignored += len(L_Annotations)\n",
    "        \n",
    "    # Mask all ligand-target annotattions of current fold\n",
    "    for E in Fold_DTIs: Master_Graph.ep.Filtered[E] = True\n",
    "    Master_Graph.set_edge_filter(Filtered, inverted = True)\n",
    "    Fold_DTIs = [str(E) for E in Fold_DTIs]\n",
    "    \n",
    "    # Generate predictions and store output into dictionary\n",
    "    print('\\nGenerating predictions of current fold: ')\n",
    "    \n",
    "    fold_time = datetime.datetime.now()\n",
    "    c = 0\n",
    "    for S, T in Inputs_Test_Set:\n",
    "        c += 1\n",
    "        print('{:02f}/100%'.format(c/len(Inputs_Test_Set) * 100), end = '\\r')\n",
    "        dijkstra_time = datetime.datetime.now()\n",
    "        dijkstra_vertices, dijkstra_edges = gt.shortest_path(Master_Graph,\n",
    "                                                             source = S,\n",
    "                                                             target = T,\n",
    "                                                             weights= Master_Graph.ep.Z_Distance)\n",
    "        dijkstra_time = (datetime.datetime.now() - dijkstra_time).total_seconds()\n",
    "        \n",
    "        output_data['Fold'].append(int(Master_Graph.vp.Fold[S]))\n",
    "        output_data['Source'].append(Master_Graph.vp.ID[S])\n",
    "        output_data['Target'].append(Master_Graph.vp.ID[T])\n",
    "        output_data['Time elapsed'].append(dijkstra_time)\n",
    "        output_data['Path'].append(dijkstra_edges)\n",
    "        output_data['Steps'].append(len(dijkstra_edges))\n",
    "        output_data['Similarities'].append([Master_Graph.ep.Similarity[E]\n",
    "                                      for E in dijkstra_edges\n",
    "                                      if Master_Graph.ep.Type[E] != 'LT'])\n",
    "        output_data['TP'].append(str((int(S),int(T))) in Fold_DTIs)\n",
    "    \n",
    "    print('Time elapsed:', datetime.datetime.now() - fold_time)\n",
    "    print()\n",
    "    \n",
    "print('ALL DONE! TIME ELAPSED :', datetime.datetime.now() - init_time)"
   ]
  },
  {
   "cell_type": "code",
   "execution_count": null,
   "metadata": {},
   "outputs": [],
   "source": [
    "df_out = pd.DataFrame(output_data)\n",
    "df_out = df_out[df_out['Steps'] > 0]\n",
    "df_out.to_csv('/Users/cvigilv/Dropbox/2018/Data/CC&D mk. 2/chembl23_GS3_v2.mphase_gt_0.txt.co.out')"
   ]
  }
 ],
 "metadata": {
  "kernelspec": {
   "display_name": "Python 3",
   "language": "python",
   "name": "python3"
  },
  "language_info": {
   "codemirror_mode": {
    "name": "ipython",
    "version": 3
   },
   "file_extension": ".py",
   "mimetype": "text/x-python",
   "name": "python",
   "nbconvert_exporter": "python",
   "pygments_lexer": "ipython3",
   "version": "3.7.3"
  }
 },
 "nbformat": 4,
 "nbformat_minor": 2
}
