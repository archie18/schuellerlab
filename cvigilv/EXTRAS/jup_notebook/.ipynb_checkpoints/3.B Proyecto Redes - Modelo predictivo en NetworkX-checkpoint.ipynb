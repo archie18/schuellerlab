{
 "cells": [
  {
   "cell_type": "markdown",
   "metadata": {},
   "source": [
    "# Proyecto Redes - Modelo predictivo (NetworkX)\n",
    "## Idea\n",
    "A partir de la red de consulta generada en el paso anterior, la idea es generar 10 subsets de datos. A partir de uno de estos subsets se calcularan los caminos más cortos desde un ligando a un blanco empleando el algoritmo de Dijsktra con un _cutoff_ para el largo del camino de 4.\n",
    "### Input\n",
    "Archivo de red binario  \n",
    "Archivo de configuraciones (No considerado en este prototipado)  \n",
    "### Output\n",
    "Archivo de salida predicciones"
   ]
  },
  {
   "cell_type": "code",
   "execution_count": 1,
   "metadata": {},
   "outputs": [],
   "source": [
    "from matplotlib import pyplot as plt\n",
    "%matplotlib inline\n",
    "\n",
    "plt.rcParams['figure.figsize'] = [20, 10]"
   ]
  },
  {
   "cell_type": "code",
   "execution_count": 2,
   "metadata": {},
   "outputs": [],
   "source": [
    "# Input files\n",
    "Master_file = '/Users/cvigilv/Dropbox/2018/Data/CC&D mk. 2/chembl23_GS3_v2.mphase_gt_0.txt.co.graphml'"
   ]
  },
  {
   "cell_type": "code",
   "execution_count": 3,
   "metadata": {},
   "outputs": [],
   "source": [
    "# Configurations\n",
    "Ligand_similarity_cutoff = 0.4\n",
    "Target_similarity_cutoff = 0.2"
   ]
  },
  {
   "cell_type": "code",
   "execution_count": 4,
   "metadata": {},
   "outputs": [
    {
     "name": "stdout",
     "output_type": "stream",
     "text": [
      "Summary of graph object:\n",
      "\n",
      "Name: Complete graph\n",
      "Type: Graph\n",
      "Number of nodes: 2129\n",
      "Number of edges: 1169793\n",
      "Average degree: 1098.9131\n",
      "Edge attributes: Similarity, Distance, Z_Similarity, Z_Distance, Type\n",
      "Node attributes: Type, Fold\n"
     ]
    }
   ],
   "source": [
    "import networkx as nx\n",
    "\n",
    "# Load graph file into graph object\n",
    "Master_Graph = nx.read_graphml(Master_file)\n",
    "\n",
    "print('Summary of graph object:\\n')\n",
    "print(nx.info(Master_Graph))\n",
    "print('Edge attributes:', ', '.join(list((list(Master_Graph.edges(data=True))[0][2]).keys())))\n",
    "print('Node attributes:', ', '.join(list((list(Master_Graph.nodes(data=True))[0][1]).keys())))"
   ]
  },
  {
   "cell_type": "code",
   "execution_count": 5,
   "metadata": {},
   "outputs": [],
   "source": [
    "import seaborn as sns\n",
    "import pandas as pd\n",
    "import numpy as np"
   ]
  },
  {
   "cell_type": "code",
   "execution_count": 6,
   "metadata": {},
   "outputs": [
    {
     "name": "stdout",
     "output_type": "stream",
     "text": [
      "Summary of filtered graph object:\n",
      "\n",
      "Name: Complete graph\n",
      "Type: Graph\n",
      "Number of nodes: 2129\n",
      "Number of edges: 27801\n",
      "Average degree:  26.1165\n",
      "Edge attributes: Similarity, Distance, Z_Similarity, Z_Distance, Type\n",
      "Node attributes: Type, Fold\n"
     ]
    }
   ],
   "source": [
    "# Filter graph edges based in previously declared cutoffs\n",
    "\n",
    "Ignored = []\n",
    "\n",
    "for n1, n2, d in Master_Graph.edges(data = True):\n",
    "    \n",
    "    e = (n1, n2)\n",
    "    \n",
    "    if d['Type'] == 'LL':       \n",
    "        if d['Similarity'] < Ligand_similarity_cutoff:\n",
    "            Ignored.append(e)\n",
    "        else:\n",
    "            pass\n",
    "            \n",
    "    elif d['Type'] == 'TT':\n",
    "        if d['Similarity'] < Target_similarity_cutoff:\n",
    "            Ignored.append(e)\n",
    "        else:\n",
    "            pass\n",
    "            \n",
    "    else:\n",
    "        pass\n",
    "\n",
    "Master_Graph.remove_edges_from(Ignored)\n",
    "\n",
    "print('Summary of filtered graph object:\\n')\n",
    "print(nx.info(Master_Graph))\n",
    "print('Edge attributes:', ', '.join(list((list(Master_Graph.edges(data=True))[0][2]).keys())))\n",
    "print('Node attributes:', ', '.join(list((list(Master_Graph.nodes(data=True))[0][1]).keys())))"
   ]
  },
  {
   "cell_type": "code",
   "execution_count": 8,
   "metadata": {
    "scrolled": false
   },
   "outputs": [
    {
     "name": "stdout",
     "output_type": "stream",
     "text": [
      "Generating predictions for fold 1\n",
      "Amount of ligands in test set: 124\n",
      "Amount of inputs in test set: 111228\n",
      "Eliminated DTI's: 0\n",
      "\n",
      "Generating predictions for fold 1\n",
      "89 11\n"
     ]
    }
   ],
   "source": [
    "import datetime\n",
    "import random\n",
    "\n",
    "# Isolate ligands selected for prediction and run predictions\n",
    "def AS_predictor(Graph, source, target, weight = 'weight'):\n",
    "    Graph = Graph\n",
    "    S = source\n",
    "    T = target\n",
    "    Remove = []\n",
    "    Path = ['','',1000]\n",
    "\n",
    "    R = nx.Graph(Graph.subgraph([n for n in Graph.neighbors(T)]+[S,T]))\n",
    "    for u,v in R.edges():\n",
    "        if u not in [S,T]:\n",
    "            if v not in [S,T]:\n",
    "                Remove.append((u,v))\n",
    "    R.remove_edges_from(Remove)\n",
    "    edgesw = R.edges(nbunch = S, data=True)\n",
    "    for u,v,w in edgesw:\n",
    "        if w[weight] < Path[2]:\n",
    "            Path = [u,v,w[weight]]\n",
    "\n",
    "    if Path == ['','',1000]:\n",
    "        raise nx.NetworkXNoPath\n",
    "    else:\n",
    "        return [[S,Path[1]],[Path[1],T]]\n",
    "    \n",
    "def Predictor_1(Graph, source, target, weight = 'weight'):\n",
    "    Graph = Graph\n",
    "    S = source\n",
    "    T = target\n",
    "    R = nx.Graph(Graph.subgraph([n for n in Graph.neighbors(T)]+[n for n in Graph.neighbors(S)]+[S,T]))\n",
    "    \n",
    "\n",
    "    try:\n",
    "        return nx.bidirectional_dijkstra(R, S, T, weight)[1]\n",
    "    except nx.NetworkXNoPath:\n",
    "        return nx.bidirectional_dijkstra(Graph, source = S, target = T, weight = weight)[1]\n",
    "\n",
    "def dist(N1, N2):\n",
    "    (x1, y1) = node_positions[N1]\n",
    "    (x2, y2) = node_positions[N2]\n",
    "    \n",
    "    return ((x1 - x2) ** 2 + (y1 - y2) ** 2) ** 0.5\n",
    "    \n",
    "df_nodes = pd.DataFrame({'ChEMBL_ID' : list(nx.get_node_attributes(Master_Graph, 'Type').keys()),\n",
    "                         'Type'      : list(nx.get_node_attributes(Master_Graph, 'Type').values()),\n",
    "                         'Fold'      : list(nx.get_node_attributes(Master_Graph, 'Fold').values())})\n",
    "\n",
    "'''\n",
    "node_positions = {}\n",
    "\n",
    "for n, d in Master_Graph.nodes(data = True):\n",
    "    if d['Type'] == 'Ligand':\n",
    "        node_positions[n] = (random.randint(0,100),random.randint(0,100))\n",
    "    elif d['Type'] == 'Target':\n",
    "        node_positions[n] = (random.randint(0,100),random.randint(-100,0))\n",
    "'''\n",
    "\n",
    "for i in [1]:\n",
    "    print('Generating predictions for fold {}'.format(i))\n",
    "    Ligands_Test_Set = df_nodes[(df_nodes['Type'] == 'Ligand') & (df_nodes['Fold'] == i)]['ChEMBL_ID'].values\n",
    "    Targets_Test_Set = df_nodes[df_nodes['Type'] == 'Target']['ChEMBL_ID'].values\n",
    "    Inputs_Test_Set  = [[N1, N2] for N1 in Ligands_Test_Set for N2 in Targets_Test_Set]\n",
    "    \n",
    "    print('Amount of ligands in test set: {}'.format(len(Ligands_Test_Set)))\n",
    "    print('Amount of inputs in test set: {}'.format(len(Inputs_Test_Set)))\n",
    "\n",
    "    \n",
    "    DTIs_eliminated = 0\n",
    "    Fold_DTIs = []\n",
    "    \n",
    "    for N1 in Ligands_Test_Set:\n",
    "        DTIs            = [(N1, N2) for N2 in list(Master_Graph.neighbors(N1)) \n",
    "                           if Master_Graph.edges[N1,N2]['Type'] == 'LT']\n",
    "        Fold_DTIs       = Fold_DTIs + DTIs\n",
    "        DTIs_eliminated += len(DTIs)\n",
    "        \n",
    "        Master_Graph.remove_edges_from(DTIs)\n",
    "\n",
    "    print('Eliminated DTI\\'s: {}'.format(DTIs_eliminated))\n",
    "    \n",
    "    node_positions = nx.kamada_kawai_layout(Master_Graph)\n",
    "    node_positions = nx.spring_layout(Master_Graph,\n",
    "                                      weight='Z_Distance', \n",
    "                                      pos = node_positions,\n",
    "                                      scale = 1000)\n",
    "   \n",
    "    \n",
    "    NodePair = []\n",
    "    Times    = []\n",
    "    Type     = []\n",
    "    Lengths  = []\n",
    "\n",
    "    print('\\nGenerating predictions for fold {}'.format(i))\n",
    "    c = 0\n",
    "    cc = 0\n",
    "    for N1, N2 in random.sample(Inputs_Test_Set, 100):\n",
    "        try:\n",
    "            astar_time = datetime.datetime.now()\n",
    "            astar_length = len(nx.astar_path(Master_Graph, N1, N2, heuristic=dist, weight='Z_Distance')) - 1\n",
    "            astar_time = (datetime.datetime.now() - astar_time).total_seconds()\n",
    "            \n",
    "            dijkstra_time = datetime.datetime.now()\n",
    "            dijkstra_length, dijkstra_path = nx.single_source_dijkstra(Master_Graph, N1, N2, weight='Z_Distance')\n",
    "            dijkstra_time = (datetime.datetime.now() - dijkstra_time ).total_seconds()\n",
    "            \n",
    "            bi_dijkstra_time = datetime.datetime.now()\n",
    "            bi_dijkstra_length, bi_dijkstra_path = nx.bidirectional_dijkstra(Master_Graph, N1, N2, weight='Z_Distance')\n",
    "            bi_dijkstra_time = (datetime.datetime.now() - bi_dijkstra_time).total_seconds()\n",
    "\n",
    "            bellman_time = datetime.datetime.now()\n",
    "            bellman_length = len(nx.bellman_ford_path(Master_Graph, N1, N2, weight='Z_Distance')) -1\n",
    "            bellman_time = (datetime.datetime.now() - bellman_time).total_seconds()\n",
    "            \n",
    "            '''as_time = datetime.datetime.now()\n",
    "            as_length = len(AS_predictor(Master_Graph, source = N1, target = N2, weight='Z_Distance'))\n",
    "            as_time = (datetime.datetime.now() - as_time).total_seconds()'''\n",
    "            \n",
    "            \n",
    "            p1_time = datetime.datetime.now()\n",
    "            p1_path = Predictor_1(Master_Graph, source = N1, target = N2, weight='Z_Distance')\n",
    "            p1_time = (datetime.datetime.now() - p1_time).total_seconds()\n",
    "            \n",
    "            NodePair.append((N1,N2))\n",
    "            Type.append('A*')\n",
    "            Times.append(astar_time)\n",
    "            Lengths.append(astar_length)\n",
    "            \n",
    "            NodePair.append((N1,N2))\n",
    "            Type.append('Dijkstra')\n",
    "            Times.append(dijkstra_time)\n",
    "            Lengths.append(len(dijkstra_path)-1)\n",
    "            \n",
    "            NodePair.append((N1,N2))\n",
    "            Type.append('Bidirectional Dijkstra')\n",
    "            Times.append(bi_dijkstra_time)\n",
    "            Lengths.append(len(bi_dijkstra_path)-1)\n",
    "            \n",
    "            NodePair.append((N1,N2))\n",
    "            Type.append('Bellman-Ford')\n",
    "            Times.append(bellman_time)\n",
    "            Lengths.append(bellman_length)\n",
    "            \n",
    "            '''NodePair.append((N1,N2))\n",
    "            Type.append('A. Schueller method')\n",
    "            Times.append(as_time)\n",
    "            Lengths.append(as_length)'''\n",
    "            \n",
    "            NodePair.append((N1,N2))\n",
    "            Type.append('Test 1')\n",
    "            Times.append(p1_time)\n",
    "            Lengths.append(len(p1_path)-1)\n",
    "            \n",
    "            cc += 1\n",
    "        except nx.NetworkXNoPath:\n",
    "            c += 1\n",
    "    \n",
    "    Master_Graph.add_edges_from(Fold_DTIs, weight = 100, Type = 'LT')\n",
    "    \n",
    "    \n",
    "print(cc, c)"
   ]
  },
  {
   "cell_type": "code",
   "execution_count": 9,
   "metadata": {
    "scrolled": false
   },
   "outputs": [
    {
     "name": "stdout",
     "output_type": "stream",
     "text": [
      "                     Node_Pair      Time                    Type  Length\n",
      "0  (CHEMBL1201179, CHEMBL2525)  0.066054                      A*       5\n",
      "1  (CHEMBL1201179, CHEMBL2525)  0.074781                Dijkstra       5\n",
      "2  (CHEMBL1201179, CHEMBL2525)  0.018963  Bidirectional Dijkstra       5\n",
      "3  (CHEMBL1201179, CHEMBL2525)  0.138259            Bellman-Ford       5\n",
      "4  (CHEMBL1201179, CHEMBL2525)  0.021000                  Test 1       5\n"
     ]
    },
    {
     "data": {
      "image/png": "[encoded data removed]",
      "text/plain": [
       "<Figure size 432x288 with 1 Axes>"
      ]
     },
     "metadata": {},
     "output_type": "display_data"
    },
    {
     "data": {
      "image/png": "[encoded data removed]",
      "text/plain": [
       "<Figure size 432x288 with 1 Axes>"
      ]
     },
     "metadata": {},
     "output_type": "display_data"
    },
    {
     "name": "stderr",
     "output_type": "stream",
     "text": [
      "/usr/local/lib/python3.7/site-packages/scipy/stats/stats.py:1713: FutureWarning: Using a non-tuple sequence for multidimensional indexing is deprecated; use `arr[tuple(seq)]` instead of `arr[seq]`. In the future this will be interpreted as an array index, `arr[np.array(seq)]`, which will result either in an error or a different result.\n",
      "  return np.add.reduce(sorted[indexer] * weights, axis=axis) / sumval\n"
     ]
    },
    {
     "data": {
      "image/png": "[encoded data removed]",
      "text/plain": [
       "<Figure size 432x288 with 1 Axes>"
      ]
     },
     "metadata": {},
     "output_type": "display_data"
    }
   ],
   "source": [
    "df_times = pd.DataFrame({'Node_Pair': NodePair,\n",
    "                         'Time'     : Times,\n",
    "                         'Type'     : Type,\n",
    "                         'Length'   : Lengths})\n",
    "\n",
    "print(df_times.head())\n",
    "\n",
    "sns.set_style('whitegrid')\n",
    "\n",
    "sns.boxplot(x = 'Type', y = 'Time', data = df_times)\n",
    "plt.show()\n",
    "plt.close('all')\n",
    "sns.boxplot(x = 'Type', y = 'Length', data = df_times)\n",
    "plt.show()\n",
    "plt.close('all')\n",
    "sns.barplot(x = 'Length', y = 'Time', hue = 'Type', data = df_times)#, estimator = np.median)\n",
    "plt.show()\n",
    "plt.close('all')"
   ]
  },
  {
   "cell_type": "code",
   "execution_count": 10,
   "metadata": {},
   "outputs": [
    {
     "name": "stdout",
     "output_type": "stream",
     "text": [
      "Method                  Average time\n",
      "----------------------------------------------------------------\n",
      "A*                      0.057214 +- 0.013167 seconds\n",
      "Dijkstra                0.061303 +- 0.013869 seconds\n",
      "Bidirectional Dijkstra  0.049377 +- 0.042543 seconds\n",
      "Bellman-Ford            0.103168 +- 0.025288 seconds\n",
      "A. Schueller method     nan +- nan seconds\n",
      "Predictor method        0.038311 +- 0.038888 seconds\n"
     ]
    },
    {
     "name": "stderr",
     "output_type": "stream",
     "text": [
      "/usr/local/lib/python3.7/site-packages/numpy/core/_methods.py:140: RuntimeWarning: Degrees of freedom <= 0 for slice\n",
      "  keepdims=keepdims)\n",
      "/usr/local/lib/python3.7/site-packages/numpy/core/_methods.py:110: RuntimeWarning: invalid value encountered in true_divide\n",
      "  arrmean, rcount, out=arrmean, casting='unsafe', subok=False)\n",
      "/usr/local/lib/python3.7/site-packages/numpy/core/_methods.py:132: RuntimeWarning: invalid value encountered in double_scalars\n",
      "  ret = ret.dtype.type(ret / rcount)\n"
     ]
    }
   ],
   "source": [
    "print('Method                  Average time')\n",
    "print('-'*64)\n",
    "print('A*                      {:02f} +- {:02f} seconds'.format(df_times[df_times['Type'] == 'A*']['Time'].mean(), np.std(np.array(df_times[df_times['Type'] == 'A*']['Time']))))\n",
    "print('Dijkstra                {:02f} +- {:02f} seconds'.format(df_times[df_times['Type'] == 'Dijkstra']['Time'].mean(), np.std(np.array(df_times[df_times['Type'] == 'Dijkstra']['Time']))))\n",
    "print('Bidirectional Dijkstra  {:02f} +- {:02f} seconds'.format(df_times[df_times['Type'] == 'Bidirectional Dijkstra']['Time'].mean(), np.std(np.array(df_times[df_times['Type'] == 'Bidirectional Dijkstra']['Time']))))\n",
    "print('Bellman-Ford            {:02f} +- {:02f} seconds'.format(df_times[df_times['Type'] == 'Bellman-Ford']['Time'].mean(), np.std(np.array(df_times[df_times['Type'] == 'Bellman-Ford']['Time']))))\n",
    "print('A. Schueller method     {:02f} +- {:02f} seconds'.format(df_times[df_times['Type'] == 'A. Schueller method']['Time'].mean(), np.std(np.array(df_times[df_times['Type'] == 'A. Schueller method']['Time']))))\n",
    "print('Predictor method        {:02f} +- {:02f} seconds'.format(df_times[df_times['Type'] == 'Test 1']['Time'].mean(), np.std(np.array(df_times[df_times['Type'] == 'Test 1']['Time']))))"
   ]
  },
  {
   "cell_type": "code",
   "execution_count": null,
   "metadata": {},
   "outputs": [],
   "source": []
  }
 ],
 "metadata": {
  "kernelspec": {
   "display_name": "Python 3",
   "language": "python",
   "name": "python3"
  },
  "language_info": {
   "codemirror_mode": {
    "name": "ipython",
    "version": 3
   },
   "file_extension": ".py",
   "mimetype": "text/x-python",
   "name": "python",
   "nbconvert_exporter": "python",
   "pygments_lexer": "ipython3",
   "version": "3.7.3"
  }
 },
 "nbformat": 4,
 "nbformat_minor": 2
}
