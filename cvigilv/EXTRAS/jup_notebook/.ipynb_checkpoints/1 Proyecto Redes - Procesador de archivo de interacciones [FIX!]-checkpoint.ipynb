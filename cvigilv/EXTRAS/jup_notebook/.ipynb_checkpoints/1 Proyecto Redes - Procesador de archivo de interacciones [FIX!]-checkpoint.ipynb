{
 "cells": [
  {
   "cell_type": "markdown",
   "metadata": {},
   "source": [
    "# Preprocesador de archivo de interacciones\n",
    "## Idea\n",
    "La idea es que a partir del archivo de interacciones pueda obtener una lista con los nodos para cada tipo de objeto considerado en la red, en este caso corresponderian a los ligandos y blancos. El objetivo es tener un _script_ que genere los archivos de nodos, además de dar información de la información contenida en este archivo.\n",
    "## Input\n",
    "Archivo de interacciones\n",
    "## Output\n",
    "Archivo de nodos para los ligandos  \n",
    "Archivo de nodos para los blancos  \n",
    "Estadisticas básicas para el archivo  "
   ]
  },
  {
   "cell_type": "code",
   "execution_count": 1,
   "metadata": {},
   "outputs": [],
   "source": [
    "# Import dependencies to notebook\n",
    "import pandas as pd\n",
    "import numpy as np\n",
    "import seaborn as sns\n",
    "import matplotlib.pyplot as plt"
   ]
  },
  {
   "cell_type": "code",
   "execution_count": 2,
   "metadata": {},
   "outputs": [],
   "source": [
    "# Modify to use other interaction files\n",
    "path = '/Users/cvigilv/Dropbox/2018/Data/CC&D mk. 2/chembl23_GS3_v2.mphase_gt_0.txt.co'"
   ]
  },
  {
   "cell_type": "code",
   "execution_count": 3,
   "metadata": {},
   "outputs": [
    {
     "name": "stdout",
     "output_type": "stream",
     "text": [
      "First 5 entries of interactions file:\n",
      "\n",
      "          Target         Ligand T_Accession  \\\n",
      "0  CHEMBL1075104  CHEMBL1287853      Q5S007   \n",
      "1  CHEMBL1075104  CHEMBL1289926      Q5S007   \n",
      "2  CHEMBL1075104  CHEMBL1721885      Q5S007   \n",
      "3  CHEMBL1075104  CHEMBL1789941      Q5S007   \n",
      "4  CHEMBL1075104  CHEMBL1908397      Q5S007   \n",
      "\n",
      "                                              T_Name  \\\n",
      "0  Leucine-rich repeat serine/threonine-protein k...   \n",
      "1  Leucine-rich repeat serine/threonine-protein k...   \n",
      "2  Leucine-rich repeat serine/threonine-protein k...   \n",
      "3  Leucine-rich repeat serine/threonine-protein k...   \n",
      "4  Leucine-rich repeat serine/threonine-protein k...   \n",
      "\n",
      "                                    T_Pfam  min(ACT)  avg(ACT)  max(ACT)  \\\n",
      "0  PF00069,PF08477,PF12799,PF13855,PF16095     870.0     935.0    1000.0   \n",
      "1  PF00069,PF08477,PF12799,PF13855,PF16095     920.0     955.0     990.0   \n",
      "2  PF00069,PF08477,PF12799,PF13855,PF16095      70.0      71.0      72.0   \n",
      "3  PF00069,PF08477,PF12799,PF13855,PF16095      90.0     190.0     290.0   \n",
      "4  PF00069,PF08477,PF12799,PF13855,PF16095      45.0     197.5     350.0   \n",
      "\n",
      "                                            L_SMILES       Species  \\\n",
      "0  Cc1cnc(Nc2ccc(OCCN3CCCC3)cc2)nc1Nc4cccc(c4)S(=...  Homo sapiens   \n",
      "1  CNC(=O)c1ccccc1Sc2ccc3c(\\\\C=C\\\\c4ccccn4)n[nH]c3c2  Homo sapiens   \n",
      "2  Cc1[nH]c(\\\\C=C\\\\2/C(=O)Nc3ccc(F)cc23)c(C)c1C(=...  Homo sapiens   \n",
      "3        N#CC[C@H](C1CCCC1)n2cc(cn2)c3ncnc4[nH]ccc34  Homo sapiens   \n",
      "4     O=C(N1CCNCC1)c2ccc(\\\\C=C\\\\c3n[nH]c4ccccc34)cc2  Homo sapiens   \n",
      "\n",
      "   L_MaxPhase                                         T_Sequence  \n",
      "0           3  MASGSCQGCEEDEETLKKLIVRLNNVQEGKQIETLVQILEDLLVFT...  \n",
      "1           4  MASGSCQGCEEDEETLKKLIVRLNNVQEGKQIETLVQILEDLLVFT...  \n",
      "2           2  MASGSCQGCEEDEETLKKLIVRLNNVQEGKQIETLVQILEDLLVFT...  \n",
      "3           4  MASGSCQGCEEDEETLKKLIVRLNNVQEGKQIETLVQILEDLLVFT...  \n",
      "4           1  MASGSCQGCEEDEETLKKLIVRLNNVQEGKQIETLVQILEDLLVFT...  \n"
     ]
    }
   ],
   "source": [
    "# Load interactions file to dataframe\n",
    "interaction_matrix = pd.read_csv(path, delimiter = '\\t', index_col = False)\n",
    "\n",
    "print('First 5 entries of interactions file:\\n')\n",
    "print(interaction_matrix.head())"
   ]
  },
  {
   "cell_type": "code",
   "execution_count": 4,
   "metadata": {},
   "outputs": [
    {
     "name": "stdout",
     "output_type": "stream",
     "text": [
      "First 5 entries of unique ligands from interactions file:\n",
      "\n",
      "          Ligand                                           L_SMILES  \\\n",
      "0  CHEMBL1287853  Cc1cnc(Nc2ccc(OCCN3CCCC3)cc2)nc1Nc4cccc(c4)S(=...   \n",
      "1  CHEMBL1289926  CNC(=O)c1ccccc1Sc2ccc3c(\\\\C=C\\\\c4ccccn4)n[nH]c3c2   \n",
      "2  CHEMBL1721885  Cc1[nH]c(\\\\C=C\\\\2/C(=O)Nc3ccc(F)cc23)c(C)c1C(=...   \n",
      "3  CHEMBL1789941        N#CC[C@H](C1CCCC1)n2cc(cn2)c3ncnc4[nH]ccc34   \n",
      "4  CHEMBL1908397     O=C(N1CCNCC1)c2ccc(\\\\C=C\\\\c3n[nH]c4ccccc34)cc2   \n",
      "\n",
      "   L_MaxPhase  \n",
      "0           3  \n",
      "1           4  \n",
      "2           2  \n",
      "3           4  \n",
      "4           1  \n"
     ]
    }
   ],
   "source": [
    "# Get ligands information\n",
    "ligands_info = interaction_matrix[['Ligand','L_SMILES','L_MaxPhase']].copy()\n",
    "ligands_info.drop_duplicates(subset = 'Ligand', keep = 'first', inplace = True)\n",
    "ligands_info = ligands_info.reset_index(drop = True)\n",
    "ligands_info.to_csv(path_or_buf = path+'.ul', sep = '\\t',index=False)\n",
    "\n",
    "print('First 5 entries of unique ligands from interactions file:\\n')\n",
    "print(ligands_info.head())"
   ]
  },
  {
   "cell_type": "code",
   "execution_count": 5,
   "metadata": {},
   "outputs": [
    {
     "name": "stdout",
     "output_type": "stream",
     "text": [
      "First 5 entries of unique targets from interactions file:\n",
      "\n",
      "          Target T_Accession  \\\n",
      "0  CHEMBL1075104      Q5S007   \n",
      "1  CHEMBL1075132      Q12931   \n",
      "2  CHEMBL1075133      Q8WTQ7   \n",
      "3  CHEMBL1075144      Q9GZQ4   \n",
      "4  CHEMBL1075155      Q15208   \n",
      "\n",
      "                                              T_Name  \\\n",
      "0  Leucine-rich repeat serine/threonine-protein k...   \n",
      "1           Heat shock protein 75 kDa, mitochondrial   \n",
      "2                                   Rhodopsin kinase   \n",
      "3                            Neuromedin-U receptor 2   \n",
      "4                 Serine/threonine-protein kinase 38   \n",
      "\n",
      "                                    T_Pfam  \\\n",
      "0  PF00069,PF08477,PF12799,PF13855,PF16095   \n",
      "1                          PF00183,PF02518   \n",
      "2                          PF00069,PF00615   \n",
      "3                                  PF00001   \n",
      "4                          PF00069,PF00433   \n",
      "\n",
      "                                          T_Sequence  \n",
      "0  MASGSCQGCEEDEETLKKLIVRLNNVQEGKQIETLVQILEDLLVFT...  \n",
      "1  MARELRALLLWGRRLRPLLRAPALAAVPGGKPILCPRRTTAQLGPR...  \n",
      "2  MVDMGALDNLIANTAYLQARKPSDCDSKELQRRRRSLALPGLQGCA...  \n",
      "3  MSGMEKLQNASWIYQQKLEDPFQKHLNSTEEYLAFLCGPRRSHFFL...  \n",
      "4  MAMTGSTPCSSMSNHTKERVTMTKVTLENFYSNLIAQHEEREMRQK...  \n"
     ]
    }
   ],
   "source": [
    "# Get target information\n",
    "targets_info = interaction_matrix[['Target','T_Accession','T_Name', 'T_Pfam', 'T_Sequence']].copy()\n",
    "targets_info.drop_duplicates(subset = 'Target', keep = 'first', inplace = True)\n",
    "targets_info = targets_info.reset_index(drop = True)\n",
    "targets_info.to_csv(path_or_buf = path+'.ut', sep = '\\t',index=False)\n",
    "\n",
    "print('First 5 entries of unique targets from interactions file:\\n')\n",
    "print(targets_info.head())"
   ]
  },
  {
   "cell_type": "code",
   "execution_count": 6,
   "metadata": {},
   "outputs": [
    {
     "name": "stdout",
     "output_type": "stream",
     "text": [
      "Unique instances on interactions files:\n",
      "\n",
      "Target          897\n",
      "Ligand         1232\n",
      "T_Accession     897\n",
      "T_Name          896\n",
      "T_Pfam          343\n",
      "min(ACT)       2260\n",
      "avg(ACT)       3604\n",
      "max(ACT)       2414\n",
      "L_SMILES       1232\n",
      "Species           1\n",
      "L_MaxPhase        4\n",
      "T_Sequence      897\n",
      "dtype: int64\n",
      "\n",
      "--------------------------------\n",
      "\n",
      "Top 15 most common ligands in interactions file:\n",
      "\n",
      "CHEMBL603469     336\n",
      "CHEMBL1908397    269\n",
      "CHEMBL1287853    268\n",
      "CHEMBL475251     250\n",
      "CHEMBL535        234\n",
      "CHEMBL1721885    216\n",
      "CHEMBL288441     192\n",
      "CHEMBL1230609    189\n",
      "CHEMBL574738     182\n",
      "CHEMBL608533     181\n",
      "CHEMBL572878     163\n",
      "CHEMBL522892     156\n",
      "CHEMBL601719     141\n",
      "CHEMBL1789941    114\n",
      "CHEMBL428690     112\n",
      "Name: Ligand, dtype: int64\n",
      "\n",
      "--------------------------------\n",
      "\n",
      "Top 15 most common targets in interactions file:\n",
      "\n",
      "CHEMBL1833    102\n",
      "CHEMBL1867     96\n",
      "CHEMBL222      96\n",
      "CHEMBL224      96\n",
      "CHEMBL225      93\n",
      "CHEMBL234      92\n",
      "CHEMBL1942     89\n",
      "CHEMBL240      89\n",
      "CHEMBL228      87\n",
      "CHEMBL1916     78\n",
      "CHEMBL216      71\n",
      "CHEMBL217      71\n",
      "CHEMBL238      69\n",
      "CHEMBL245      68\n",
      "CHEMBL211      67\n",
      "Name: Target, dtype: int64\n",
      "\n",
      "--------------------------------\n",
      "\n",
      "Top 15 most common Pfam in targets:\n",
      "\n",
      "PF00069                    148\n",
      "PF00001                    104\n",
      "PF00104,PF00105             20\n",
      "PF00067                     16\n",
      "PF00017,PF00018,PF07714     13\n",
      "PF00194                     12\n",
      "PF07714                     10\n",
      "PF00069,PF00433             10\n",
      "PF02931,PF02932              9\n",
      "PF00850                      7\n",
      "PF00089                      7\n",
      "PF00233                      7\n",
      "PF00069,PF00780              7\n",
      "PF00068                      7\n",
      "PF00106                      6\n",
      "Name: T_Pfam, dtype: int64\n"
     ]
    }
   ],
   "source": [
    "# Get aditional information of interactions file\n",
    "print('Unique instances on interactions files:\\n')\n",
    "print(interaction_matrix.nunique())\n",
    "print('\\n'+'-'*32+'\\n')\n",
    "print('Top 15 most common ligands in interactions file:\\n')\n",
    "print(interaction_matrix['Ligand'].value_counts().head(n = 15))\n",
    "print('\\n'+'-'*32+'\\n')\n",
    "print('Top 15 most common targets in interactions file:\\n')\n",
    "print(interaction_matrix['Target'].value_counts().head(n = 15))\n",
    "print('\\n'+'-'*32+'\\n')\n",
    "print('Top 15 most common Pfam in targets:\\n')\n",
    "print(targets_info['T_Pfam'].value_counts().head(n = 15))"
   ]
  }
 ],
 "metadata": {
  "kernelspec": {
   "display_name": "Python 3",
   "language": "python",
   "name": "python3"
  },
  "language_info": {
   "codemirror_mode": {
    "name": "ipython",
    "version": 3
   },
   "file_extension": ".py",
   "mimetype": "text/x-python",
   "name": "python",
   "nbconvert_exporter": "python",
   "pygments_lexer": "ipython3",
   "version": "3.7.3"
  }
 },
 "nbformat": 4,
 "nbformat_minor": 2
}
