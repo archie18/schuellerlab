{
 "cells": [
  {
   "cell_type": "code",
   "execution_count": 1,
   "metadata": {},
   "outputs": [],
   "source": [
    "# Dependencies\n",
    "import pandas as pd\n",
    "import numpy as np\n",
    "import seaborn as sns\n",
    "import sklearn\n",
    "import ast\n",
    "\n",
    "from sklearn import metrics\n",
    "from sklearn.utils.fixes import signature\n",
    "from sklearn.metrics import precision_recall_curve\n",
    "from sklearn.metrics import average_precision_score\n",
    "from matplotlib import pyplot as plt\n",
    "\n",
    "plt.rcParams['figure.figsize'] = [10, 8]"
   ]
  },
  {
   "cell_type": "code",
   "execution_count": 2,
   "metadata": {},
   "outputs": [],
   "source": [
    "# Input files\n",
    "out_csv = '/Users/cvigilv/Dropbox/2018/Data/CC&D mk. 2/chembl23_GS3_v2.mphase_gt_0.txt.co.gt.out'"
   ]
  },
  {
   "cell_type": "code",
   "execution_count": 3,
   "metadata": {},
   "outputs": [
    {
     "name": "stdout",
     "output_type": "stream",
     "text": [
      "<class 'pandas.core.frame.DataFrame'>\n",
      "RangeIndex: 999031 entries, 0 to 999030\n",
      "Data columns (total 8 columns):\n",
      "Fold            999031 non-null int64\n",
      "Score           999031 non-null float64\n",
      "Similarities    999031 non-null object\n",
      "Source          999031 non-null object\n",
      "Steps           999031 non-null int64\n",
      "TP              999031 non-null bool\n",
      "Target          999031 non-null object\n",
      "Time elapsed    999031 non-null float64\n",
      "dtypes: bool(1), float64(2), int64(2), object(3)\n",
      "memory usage: 54.3+ MB\n",
      "None\n"
     ]
    }
   ],
   "source": [
    "# Convert .csv file into pandas dataframe for data processing and cleaning\n",
    "out_df = pd.read_csv(out_csv)\n",
    "out_df = out_df.drop(out_df.columns[0], axis=1)\n",
    "out_df = out_df.drop(out_df.columns[1], axis=1)\n",
    "\n",
    "def Convert2List(row):\n",
    "    return ast.literal_eval(row['Similarities'])\n",
    "\n",
    "out_df['Similarities'] = out_df.apply(Convert2List, axis = 1)\n",
    "print(out_df.info())"
   ]
  },
  {
   "cell_type": "code",
   "execution_count": 10,
   "metadata": {},
   "outputs": [],
   "source": [
    "# Calculate other scores\n",
    "def Score(row):\n",
    "    return np.prod(row['Similarities'])\n",
    "\n",
    "def Score2(row):\n",
    "    return np.sum(row['Similarities'])\n",
    "\n",
    "def Score3(row):\n",
    "    array = np.array([w for w in row['Similarities'] if w != 0])\n",
    "    return array.prod()**(1.0/len(array))\n",
    "\n",
    "def Score4(row):\n",
    "    return 1 / np.sum(row['Similarities'])\n",
    "\n",
    "def Score5(row):\n",
    "    return  np.prod(row['Similarities']) * (1 / np.sum(row['Similarities']))\n",
    "\n",
    "out_df['Score'] = out_df.apply(Score, axis = 1)\n",
    "out_df['Score 2'] = out_df.apply(Score2, axis = 1)\n",
    "out_df['Score 3'] = out_df.apply(Score3, axis = 1)\n",
    "out_df['Score 4'] = out_df.apply(Score4, axis = 1)\n",
    "out_df['Score 5'] = out_df.apply(Score5, axis = 1)"
   ]
  },
  {
   "cell_type": "code",
   "execution_count": 11,
   "metadata": {},
   "outputs": [],
   "source": [
    "# Create a bunch of graphs with important data\n",
    "\n",
    "def ROC(y_pred, y_scores, title, filename):\n",
    "    plt.figure()\n",
    "    fpr, tpr, thresholds = sklearn.metrics.roc_curve(y_pred, y_scores, pos_label=1)\n",
    "    auc_roc = sklearn.metrics.auc(fpr,tpr)\n",
    "    plt.plot(fpr, tpr, color='orange', lw=2, label='Area = %0.2f' % (auc_roc))\n",
    "    plt.plot([0, 1], [0, 1], color='navy', lw=2, linestyle='--')\n",
    "    plt.xlim([0.0, 1.0])\n",
    "    plt.ylim([0.0, 1.05])\n",
    "    plt.xlabel('False Positive Rate')\n",
    "    plt.ylabel('True Positive Rate')\n",
    "    plt.title('Receiver operating characteristic - {INPUT}'.format(INPUT = title))\n",
    "    plt.legend(loc=\"lower right\", prop={'size': 10})\n",
    "    plt.savefig(filename+'.ROC.png' ,dpi = 300)\n",
    "    plt.close('all')\n",
    "\n",
    "def PR(y_pred, y_scores, title, filename):\n",
    "    plt.figure()\n",
    "    average_precision = average_precision_score(y_pred, y_scores)\n",
    "    precision, recall, _ = precision_recall_curve(y_pred, y_scores)\n",
    "    plt.step(recall, precision, color='orange', where='post', label = 'AVG. Precision = %0.2f' % (average_precision))\n",
    "    plt.xlabel('Recall')\n",
    "    plt.ylabel('Precision')\n",
    "    plt.ylim([0.0, 1.05])\n",
    "    plt.xlim([0.0, 1.0])\n",
    "    plt.title('Precision-Recall curve - {} '.format(title))\n",
    "    plt.legend(loc=\"upper right\", prop={'size': 10})\n",
    "    plt.savefig(filename+'.PR.png',dpi = 300)\n",
    "    plt.close('all')\n",
    "    \n",
    "for t in ['Score', 'Score 2', 'Score 3', 'Score 4', 'Score 5']:\n",
    "    ROC(out_df['TP'], out_df[out_df['Steps'] > 0][t], t, out_csv+'.'+t)\n",
    "    PR(out_df['TP'], out_df[out_df['Steps'] > 0][t], t, out_csv+'.'+t)"
   ]
  },
  {
   "cell_type": "code",
   "execution_count": 12,
   "metadata": {},
   "outputs": [
    {
     "data": {
      "text/plain": [
       "<matplotlib.axes._subplots.AxesSubplot at 0x12baad978>"
      ]
     },
     "execution_count": 12,
     "metadata": {},
     "output_type": "execute_result"
    },
    {
     "data": {
      "image/png": "[encoded data removed]",
      "text/plain": [
       "<Figure size 432x288 with 1 Axes>"
      ]
     },
     "metadata": {},
     "output_type": "display_data"
    }
   ],
   "source": [
    "sns.boxplot(y = 'Score 5', x = 'TP', data = out_df)"
   ]
  },
  {
   "cell_type": "code",
   "execution_count": 13,
   "metadata": {},
   "outputs": [
    {
     "name": "stderr",
     "output_type": "stream",
     "text": [
      "/usr/local/lib/python3.7/site-packages/scipy/stats/stats.py:1713: FutureWarning: Using a non-tuple sequence for multidimensional indexing is deprecated; use `arr[tuple(seq)]` instead of `arr[seq]`. In the future this will be interpreted as an array index, `arr[np.array(seq)]`, which will result either in an error or a different result.\n",
      "  return np.add.reduce(sorted[indexer] * weights, axis=axis) / sumval\n"
     ]
    },
    {
     "data": {
      "text/plain": [
       "<matplotlib.axes._subplots.AxesSubplot at 0x11fa72cc0>"
      ]
     },
     "execution_count": 13,
     "metadata": {},
     "output_type": "execute_result"
    },
    {
     "data": {
      "image/png": "[encoded data removed]",
      "text/plain": [
       "<Figure size 432x288 with 1 Axes>"
      ]
     },
     "metadata": {},
     "output_type": "display_data"
    }
   ],
   "source": [
    "sns.barplot(x = 'Steps', y = 'Score', hue = 'TP', data = out_df)"
   ]
  },
  {
   "cell_type": "code",
   "execution_count": 14,
   "metadata": {},
   "outputs": [
    {
     "name": "stderr",
     "output_type": "stream",
     "text": [
      "/usr/local/lib/python3.7/site-packages/scipy/stats/stats.py:1713: FutureWarning: Using a non-tuple sequence for multidimensional indexing is deprecated; use `arr[tuple(seq)]` instead of `arr[seq]`. In the future this will be interpreted as an array index, `arr[np.array(seq)]`, which will result either in an error or a different result.\n",
      "  return np.add.reduce(sorted[indexer] * weights, axis=axis) / sumval\n"
     ]
    },
    {
     "data": {
      "text/plain": [
       "<matplotlib.axes._subplots.AxesSubplot at 0x11fa60588>"
      ]
     },
     "execution_count": 14,
     "metadata": {},
     "output_type": "execute_result"
    },
    {
     "data": {
      "image/png": "[encoded data removed]",
      "text/plain": [
       "<Figure size 432x288 with 1 Axes>"
      ]
     },
     "metadata": {},
     "output_type": "display_data"
    }
   ],
   "source": [
    "sns.violinplot(y = 'Time elapsed', data = out_df, cut = 0)"
   ]
  },
  {
   "cell_type": "code",
   "execution_count": null,
   "metadata": {},
   "outputs": [],
   "source": []
  }
 ],
 "metadata": {
  "kernelspec": {
   "display_name": "Python 3",
   "language": "python",
   "name": "python3"
  },
  "language_info": {
   "codemirror_mode": {
    "name": "ipython",
    "version": 3
   },
   "file_extension": ".py",
   "mimetype": "text/x-python",
   "name": "python",
   "nbconvert_exporter": "python",
   "pygments_lexer": "ipython3",
   "version": "3.7.3"
  }
 },
 "nbformat": 4,
 "nbformat_minor": 2
}
