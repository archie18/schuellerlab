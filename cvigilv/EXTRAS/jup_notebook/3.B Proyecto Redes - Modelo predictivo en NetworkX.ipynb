{
 "cells": [
  {
   "cell_type": "code",
   "execution_count": 1,
   "metadata": {},
   "outputs": [],
   "source": [
    "import seaborn as sns\n",
    "import pandas as pd\n",
    "import numpy as np\n",
    "import networkx as nx\n",
    "\n",
    "from matplotlib import pyplot as plt\n",
    "%matplotlib inline\n",
    "\n",
    "plt.rcParams['figure.figsize'] = [20, 10]"
   ]
  },
  {
   "cell_type": "code",
   "execution_count": 2,
   "metadata": {},
   "outputs": [],
   "source": [
    "# Input files\n",
    "Master_file = '/home/carlos/Dropbox/2018/Data/CC&D mk. 2/chembl23_GS3_v2.mphase_gt_0.txt.co.graphml'"
   ]
  },
  {
   "cell_type": "code",
   "execution_count": null,
   "metadata": {},
   "outputs": [],
   "source": [
    "# Load graph file into graph object\n",
    "Master_Graph = nx.read_graphml(Master_file)\n",
    "\n",
    "print('Summary of graph object:\\n')\n",
    "print(nx.info(Master_Graph))\n",
    "print('Edge attributes:', ', '.join(list((list(Master_Graph.edges(data=True))[0][2]).keys())))\n",
    "print('Node attributes:', ', '.join(list((list(Master_Graph.nodes(data=True))[0][1]).keys())))"
   ]
  },
  {
   "cell_type": "code",
   "execution_count": null,
   "metadata": {
    "scrolled": false
   },
   "outputs": [],
   "source": [
    "import datetime\n",
    "import random\n",
    "import math\n",
    "from collections import defaultdict\n",
    "\n",
    "# Isolate ligands selected for prediction and run predictions\n",
    "def AS_predictor(Graph, source, target, weight = 'Similarity'):\n",
    "    Graph = Graph\n",
    "    S = source\n",
    "    T = target\n",
    "    Remove = []\n",
    "    Path = ['','',-99]\n",
    "    \n",
    "    #print('Predicting pair:', source, '-', target)\n",
    "    R = nx.Graph(Graph.subgraph([n for n in Graph.neighbors(T)]+[S,T]))\n",
    "        \n",
    "    for u,v in R.edges():\n",
    "        if u not in [S,T]:\n",
    "            if v not in [S,T]:\n",
    "                Remove.append((u,v))\n",
    "                \n",
    "    R.remove_edges_from(Remove)\n",
    "    edgesw = R.edges(nbunch = S, data=True)\n",
    "    \n",
    "    for u,v,w in edgesw:\n",
    "        if float(w[weight]) > float(Path[2]):\n",
    "            Path = [u,v,w[weight]]\n",
    "            \n",
    "    print('Prediction:', '-'.join([S, Path[1], T]), Path[2])\n",
    "    return '-'.join([S, Path[1], T]), Path[2]\n",
    "\n",
    "# Create list with Ligand and Target ChEMBL ID's\n",
    "Ligand_Nodes = sorted([Node for Node, Data in Master_Graph.nodes(data = True) if Data['Type'] == 'Ligand'])\n",
    "Target_Nodes = sorted([Node for Node, Data in Master_Graph.nodes(data = True) if Data['Type'] == 'Target'])\n",
    "\n",
    "# Get size of each fold for the 10-fold CV\n",
    "Fold_size = int(math.ceil(len(Ligand_Nodes)/10))\n",
    "\n",
    "# 10-fold CV\n",
    "out_file = open(\"/home/carlos/lppnet_AS.out\",\"w+\")\n",
    "for FOLD in range(10):\n",
    "    \n",
    "    fold_time = datetime.datetime.now()\n",
    "    print('Generating predictions for fold {}'.format(FOLD))\n",
    "    \n",
    "    # Get start and end index for dataset partitioning\n",
    "    start = FOLD * Fold_size\n",
    "    end = Fold_size + FOLD * Fold_size\n",
    "\n",
    "    # Generate the inputs for predictive model\n",
    "    Ligands_Test_Set = Ligand_Nodes[start:end]\n",
    "    Inputs_Test_Set  = [[N1, N2] for N1 in Ligands_Test_Set for N2 in Target_Nodes]\n",
    "    \n",
    "    print('Amount of ligands in test set: {}'.format(len(Ligands_Test_Set)))\n",
    "    print('Amount of inputs in test set: {}'.format(len(Inputs_Test_Set)))\n",
    "\n",
    "    # Eliminate DTI interactions for Ligand test set\n",
    "    DTIs_eliminated = 0\n",
    "    Fold_DTIs = []\n",
    "    \n",
    "    for N1 in Ligands_Test_Set:\n",
    "        DTIs            = [(N1, N2) for N2 in list(Master_Graph.neighbors(N1)) \n",
    "                           if Master_Graph.edges[N1,N2]['Type'] == 'LT']\n",
    "        Fold_DTIs       = Fold_DTIs + DTIs\n",
    "        DTIs_eliminated += len(DTIs)\n",
    "        \n",
    "        Master_Graph.remove_edges_from(DTIs)\n",
    "        exit()\n",
    "\n",
    "    print('Eliminated DTI\\'s: {}\\n'.format(DTIs_eliminated))\n",
    "\n",
    "    # Generate predictions\n",
    "    for N1, N2 in Inputs_Test_Set:\n",
    "        as_path, as_score = AS_predictor(Master_Graph, source = N1, target = N2, weight='Similarity')\n",
    "        print('\\t'.join([str(i) for i in [FOLD, N1, N2, as_score, as_path, len(as_path), str(bool((N1, N2) in Fold_DTIs))]]),file = out_file,flush=True)\n",
    "    \n",
    "    print('\\nFold {N} done! Time elapsed: {time}'.format(N = FOLD, time = datetime.datetime.now() - fold_time))\n",
    "    \n",
    "    # Add back eliminated DTI interactions\n",
    "    Master_Graph.add_edges_from(Fold_DTIs, weight = 100, Type = 'LT')\n",
    "\n",
    "out_file.close()"
   ]
  },
  {
   "cell_type": "code",
   "execution_count": null,
   "metadata": {},
   "outputs": [],
   "source": []
  }
 ],
 "metadata": {
  "kernelspec": {
   "display_name": "Python 3",
   "language": "python",
   "name": "python3"
  },
  "language_info": {
   "codemirror_mode": {
    "name": "ipython",
    "version": 3
   },
   "file_extension": ".py",
   "mimetype": "text/x-python",
   "name": "python",
   "nbconvert_exporter": "python",
   "pygments_lexer": "ipython3",
   "version": "3.7.3"
  }
 },
 "nbformat": 4,
 "nbformat_minor": 2
}
