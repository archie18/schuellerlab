{
 "cells": [
  {
   "cell_type": "code",
   "execution_count": 1,
   "metadata": {},
   "outputs": [],
   "source": [
    "import pandas as pd\n",
    "import matplotlib.pyplot as plt\n",
    "import seaborn as sns"
   ]
  },
  {
   "cell_type": "code",
   "execution_count": 2,
   "metadata": {},
   "outputs": [
    {
     "name": "stdout",
     "output_type": "stream",
     "text": [
      "                                                  File  Alpha   ROC-AUC  \\\n",
      "0    chembl23_GS3_v2.mphase_gt_0.txt.co.CM_Annotati...    0.0  0.883466   \n",
      "1    chembl23_GS3_v2.mphase_gt_0.txt.co.CM_Annotati...    0.1  0.897560   \n",
      "2    chembl23_GS3_v2.mphase_gt_0.txt.co.CM_Annotati...    0.2  0.900167   \n",
      "3    chembl23_GS3_v2.mphase_gt_0.txt.co.CM_Annotati...    0.3  0.887830   \n",
      "4    chembl23_GS3_v2.mphase_gt_0.txt.co.CM_Annotati...    0.4  0.859917   \n",
      "..                                                 ...    ...       ...   \n",
      "325  chembl23_GS3_v2.mphase_gt_0.txt.co.CM_Layered....    0.6  0.877397   \n",
      "326  chembl23_GS3_v2.mphase_gt_0.txt.co.CM_Layered....    0.7  0.874710   \n",
      "327  chembl23_GS3_v2.mphase_gt_0.txt.co.CM_Layered....    0.8  0.874063   \n",
      "328  chembl23_GS3_v2.mphase_gt_0.txt.co.CM_Layered....    0.9  0.874063   \n",
      "329  chembl23_GS3_v2.mphase_gt_0.txt.co.CM_Layered....    1.0  0.695819   \n",
      "\n",
      "     AVG-Precision  \n",
      "0         0.172883  \n",
      "1         0.185599  \n",
      "2         0.198837  \n",
      "3         0.208963  \n",
      "4         0.206743  \n",
      "..             ...  \n",
      "325       0.169214  \n",
      "326       0.168683  \n",
      "327       0.168642  \n",
      "328       0.168642  \n",
      "329       0.014670  \n",
      "\n",
      "[330 rows x 4 columns]\n"
     ]
    }
   ],
   "source": [
    "df = pd.read_csv('ComparasiónMetodos.tsv',sep=' ')\n",
    "print(df)"
   ]
  },
  {
   "cell_type": "code",
   "execution_count": 3,
   "metadata": {
    "scrolled": false
   },
   "outputs": [],
   "source": [
    "def ExtractCM(row):\n",
    "    return row.split('.')[4].replace('CM_','')\n",
    "\n",
    "def ExtractRes(row):\n",
    "    if row.split('.')[5].replace('R_','') == '1':\n",
    "        return 1.0\n",
    "    else:\n",
    "        return float('0.'+row.split('.')[6])\n",
    "\n",
    "\n",
    "df['CM'] = df['File'].apply(ExtractCM)\n",
    "df['Resolución'] = df['File'].apply(ExtractRes)\n",
    "df = df.drop(columns = 'File')"
   ]
  },
  {
   "cell_type": "code",
   "execution_count": 40,
   "metadata": {},
   "outputs": [
    {
     "data": {
      "image/png": "[encoded data removed]",
      "text/plain": [
       "<Figure size 432x288 with 1 Axes>"
      ]
     },
     "metadata": {
      "needs_background": "light"
     },
     "output_type": "display_data"
    }
   ],
   "source": [
    "sns.scatterplot(x = 'Alpha', y = 'AVG-Precision', hue = 'Resolución', data = df[df['CM']=='Annotation'], legend='full', marker='.', s=100, palette='viridis')\n",
    "plt.axhline(y=0.17288286528111516, label='Método A.Schueller', linestyle=':', color = 'grey')\n",
    "plt.xlim(0,1.05)\n",
    "plt.ylim(0,0.5)\n",
    "plt.legend(bbox_to_anchor=(1.05,1), loc=\"upper left\")\n",
    "plt.title('AVG. Precision - Anotaciones')\n",
    "plt.savefig('PR_Anotaciones.png', dpi=300, bbox_inches='tight')\n",
    "#plt.show()\n",
    "plt.cla()\n",
    "sns.scatterplot(x = 'Alpha', y = 'ROC-AUC', hue = 'Resolución', data = df[df['CM']=='Annotation'], legend='full', marker='.', s=100, palette='viridis')\n",
    "plt.axhline(y=0.8834637313714536, label='Método A.Schueller', linestyle=':', color = 'grey')\n",
    "plt.xlim(0,1.05)\n",
    "plt.ylim(0,1.05)\n",
    "plt.legend(bbox_to_anchor=(1.05,1), loc=\"upper left\")\n",
    "plt.title('ROC-AUC - Anotaciones')\n",
    "plt.savefig('ROC_Anotaciones.png', dpi=300, bbox_inches='tight')\n",
    "#plt.show()\n",
    "plt.cla()\n",
    "sns.scatterplot(x = 'Alpha', y = 'AVG-Precision', hue = 'Resolución', data = df[df['CM']=='Layered'], legend='full', marker='.', s=100, palette='viridis')\n",
    "plt.axhline(y=0.17288286528111516, label='Método A.Schueller', linestyle=':', color = 'grey')\n",
    "plt.xlim(0,1.05)\n",
    "plt.ylim(0,0.5)\n",
    "plt.legend(bbox_to_anchor=(1.05,1), loc=\"upper left\")\n",
    "plt.title('AVG. Precision - Por capa')\n",
    "plt.savefig('PR_Capas.png', dpi=300, bbox_inches='tight')\n",
    "#plt.show()\n",
    "plt.cla()\n",
    "sns.scatterplot(x = 'Alpha', y = 'ROC-AUC', hue = 'Resolución', data = df[df['CM']=='Layered'], legend='full', marker='.', s=100, palette='viridis')\n",
    "plt.axhline(y=0.8834637313714536, label='Método A.Schueller', linestyle=':', color = 'grey')\n",
    "plt.xlim(0,1.05)\n",
    "plt.ylim(0,1.05)\n",
    "plt.legend(bbox_to_anchor=(1.05,1), loc=\"upper left\")\n",
    "plt.title('ROC-AUC - Por capa')\n",
    "plt.savefig('ROC_Capas.png', dpi=300, bbox_inches='tight')\n",
    "#plt.show()\n",
    "plt.cla()\n",
    "sns.scatterplot(x = 'Alpha', y = 'AVG-Precision', hue = 'Resolución', data = df[df['CM']=='Complete'], legend='full', marker='.', s=100, palette='viridis')\n",
    "plt.axhline(y=0.17288286528111516, label='Método A.Schueller', linestyle=':', color = 'grey')\n",
    "plt.xlim(0,1.05)\n",
    "plt.ylim(0,0.5)\n",
    "plt.legend(bbox_to_anchor=(1.05,1), loc=\"upper left\")\n",
    "plt.title('AVG. Precision - Red multidimensional')\n",
    "plt.savefig('PR_Completa.png', dpi=300, bbox_inches='tight')\n",
    "#plt.show()\n",
    "plt.cla()\n",
    "sns.scatterplot(x = 'Alpha', y = 'ROC-AUC', hue = 'Resolución', data = df[df['CM']=='Complete'], legend='full', marker='.', s=100, palette='viridis')\n",
    "plt.axhline(y=0.8834637313714536, label='Método A.Schueller', linestyle=':', color = 'grey')\n",
    "plt.xlim(0,1.05)\n",
    "plt.ylim(0,1.05)\n",
    "plt.legend(bbox_to_anchor=(1.05,1), loc=\"upper left\")\n",
    "plt.title('ROC-AUC - Red multidimensional')\n",
    "plt.savefig('ROC_Completa.png', dpi=300, bbox_inches='tight')\n",
    "#plt.show()"
   ]
  },
  {
   "cell_type": "code",
   "execution_count": 5,
   "metadata": {},
   "outputs": [
    {
     "name": "stdout",
     "output_type": "stream",
     "text": [
      "     Alpha   ROC-AUC  AVG-Precision          CM  Resolución\n",
      "10     1.0  0.485750       0.061053  Annotation         0.1\n",
      "120    1.0  0.487015       0.068315    Complete         0.1\n",
      "21     1.0  0.503199       0.048549  Annotation         0.2\n",
      "131    1.0  0.509866       0.061348    Complete         0.2\n",
      "230    1.0  0.536854       0.009423     Layered         0.1\n",
      "..     ...       ...            ...         ...         ...\n",
      "106    0.7  0.956929       0.254120  Annotation         1.0\n",
      "105    0.6  0.957573       0.254152  Annotation         1.0\n",
      "104    0.5  0.958242       0.254354  Annotation         1.0\n",
      "102    0.3  0.958381       0.251222  Annotation         1.0\n",
      "103    0.4  0.958848       0.254371  Annotation         1.0\n",
      "\n",
      "[330 rows x 5 columns]\n",
      "     Alpha   ROC-AUC  AVG-Precision        CM  Resolución\n",
      "230    1.0  0.536854       0.009423   Layered         0.1\n",
      "241    1.0  0.580293       0.010418   Layered         0.2\n",
      "252    1.0  0.605002       0.011477   Layered         0.3\n",
      "329    1.0  0.695819       0.014670   Layered         1.0\n",
      "263    1.0  0.657847       0.016571   Layered         0.4\n",
      "..     ...       ...            ...       ...         ...\n",
      "217    0.8  0.948794       0.318977  Complete         1.0\n",
      "218    0.9  0.948794       0.318977  Complete         1.0\n",
      "216    0.7  0.948979       0.318982  Complete         1.0\n",
      "215    0.6  0.949293       0.318996  Complete         1.0\n",
      "214    0.5  0.950397       0.319546  Complete         1.0\n",
      "\n",
      "[330 rows x 5 columns]\n"
     ]
    }
   ],
   "source": [
    "print(df.sort_values(by='ROC-AUC'))\n",
    "print(df.sort_values(by='AVG-Precision'))"
   ]
  },
  {
   "cell_type": "code",
   "execution_count": 6,
   "metadata": {},
   "outputs": [
    {
     "name": "stdout",
     "output_type": "stream",
     "text": [
      "     Alpha   ROC-AUC  AVG-Precision          CM  Resolución\n",
      "0      0.0  0.883466       0.172883  Annotation         0.1\n",
      "11     0.0  0.883466       0.172883  Annotation         0.2\n",
      "22     0.0  0.883466       0.172883  Annotation         0.3\n",
      "33     0.0  0.883466       0.172883  Annotation         0.4\n",
      "44     0.0  0.883466       0.172883  Annotation         0.5\n",
      "55     0.0  0.883466       0.172883  Annotation         0.6\n",
      "66     0.0  0.883466       0.172883  Annotation         0.7\n",
      "77     0.0  0.883466       0.172883  Annotation         0.8\n",
      "88     0.0  0.883466       0.172883  Annotation         0.9\n",
      "99     0.0  0.883466       0.172883  Annotation         1.0\n",
      "110    0.0  0.883466       0.172883    Complete         0.1\n",
      "121    0.0  0.883466       0.172883    Complete         0.2\n",
      "132    0.0  0.883466       0.172883    Complete         0.3\n",
      "143    0.0  0.883466       0.172883    Complete         0.4\n",
      "154    0.0  0.883466       0.172883    Complete         0.5\n",
      "165    0.0  0.883466       0.172883    Complete         0.6\n",
      "176    0.0  0.883466       0.172883    Complete         0.7\n",
      "187    0.0  0.883466       0.172883    Complete         0.8\n",
      "198    0.0  0.883466       0.172883    Complete         0.9\n",
      "209    0.0  0.883466       0.172883    Complete         1.0\n",
      "220    0.0  0.883466       0.172883     Layered         0.1\n",
      "231    0.0  0.883466       0.172883     Layered         0.2\n",
      "242    0.0  0.883466       0.172883     Layered         0.3\n",
      "253    0.0  0.883466       0.172883     Layered         0.4\n",
      "264    0.0  0.883466       0.172883     Layered         0.5\n",
      "275    0.0  0.883466       0.172883     Layered         0.6\n",
      "286    0.0  0.883466       0.172883     Layered         0.7\n",
      "297    0.0  0.883466       0.172883     Layered         0.8\n",
      "308    0.0  0.883466       0.172883     Layered         0.9\n",
      "319    0.0  0.883466       0.172883     Layered         1.0\n"
     ]
    }
   ],
   "source": [
    "print(df[df['Alpha'] == 0.0])"
   ]
  },
  {
   "cell_type": "code",
   "execution_count": 7,
   "metadata": {},
   "outputs": [
    {
     "name": "stdout",
     "output_type": "stream",
     "text": [
      "<class 'pandas.core.frame.DataFrame'>\n",
      "Int64Index: 1076887 entries, 0 to 1105103\n",
      "Data columns (total 7 columns):\n",
      "Fold    1076887 non-null int64\n",
      "QL      1076887 non-null object\n",
      "HT      1076887 non-null object\n",
      "Tc      1076887 non-null float64\n",
      "HL      1076887 non-null int64\n",
      "QT      1076887 non-null object\n",
      "TP      1076887 non-null int64\n",
      "dtypes: float64(1), int64(3), object(3)\n",
      "memory usage: 65.7+ MB\n",
      "None\n",
      "Fold       10\n",
      "QL       1232\n",
      "HT        897\n",
      "Tc      15263\n",
      "HL       1230\n",
      "QT       1230\n",
      "TP          2\n",
      "dtype: int64\n",
      "               Fold            Tc            HL            TP\n",
      "count  1.105104e+06  1.105104e+06  1.105104e+06  1.105104e+06\n",
      "mean   4.493506e+00 -2.284694e+00  6.849806e+02  8.723161e-03\n",
      "std    2.874535e+00  1.565583e+01  3.545904e+02  9.298965e-02\n",
      "min    0.000000e+00 -9.900000e+01 -1.000000e+00  0.000000e+00\n",
      "25%    2.000000e+00  1.702130e-01  3.960000e+02  0.000000e+00\n",
      "50%    4.000000e+00  2.410260e-01  7.280000e+02  0.000000e+00\n",
      "75%    7.000000e+00  3.085110e-01  1.015000e+03  0.000000e+00\n",
      "max    9.000000e+00  1.000000e+00  1.231000e+03  1.000000e+00\n"
     ]
    }
   ],
   "source": [
    "AS_csv = '/home/cvigilv/Repos/lppnet/chembl23_GS3_v2.mphase_gt_0.fp2.fix.txt.co.out'\n",
    "AS_df = pd.read_csv(AS_csv,sep='\\t',header=None, names=['Fold','QL','HT','Tc','HL','QT','TP'])\n",
    "print(AS_df[AS_df['Tc'] > -99].info())\n",
    "print(AS_df.nunique())\n",
    "print(AS_df.describe())"
   ]
  },
  {
   "cell_type": "code",
   "execution_count": null,
   "metadata": {},
   "outputs": [],
   "source": []
  }
 ],
 "metadata": {
  "kernelspec": {
   "display_name": "Python 3",
   "language": "python",
   "name": "python3"
  },
  "language_info": {
   "codemirror_mode": {
    "name": "ipython",
    "version": 3
   },
   "file_extension": ".py",
   "mimetype": "text/x-python",
   "name": "python",
   "nbconvert_exporter": "python",
   "pygments_lexer": "ipython3",
   "version": "3.7.4"
  }
 },
 "nbformat": 4,
 "nbformat_minor": 2
}
